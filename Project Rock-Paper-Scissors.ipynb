{
 "cells": [
  {
   "cell_type": "code",
   "execution_count": null,
   "id": "a887c216",
   "metadata": {},
   "outputs": [],
   "source": [
    "import tkinter as tk\n",
    "import random\n",
    "\n",
    "\n",
    "window = tk.Tk()\n",
    "window.title(\"Rock-Paper-Scissors Game\")\n",
    "window.geometry(\"400x400\") \n",
    "window.configure(bg=\"blue\")  \n",
    "\n",
    "\n",
    "title_label = tk.Label(window, text=\"Rock-Paper-Scissors\", font=(\"Arial\", 16))\n",
    "title_label.pack(pady=20)\n",
    "\n",
    "\n",
    "prompt_label = tk.Label(window, text=\"Choose: Rock, Paper  or Scissors\", font=(\"Arial\", 12))\n",
    "prompt_label.pack()\n",
    "\n",
    "\n",
    "user_choice_entry = tk.Entry(window, font=(\"Arial\", 12))\n",
    "user_choice_entry.pack()\n",
    "\n",
    "\n",
    "choices = [\"Rock\", \"Paper\", \"Scissors\"]\n",
    "comp_pick = random.choice(choices)\n",
    "\n",
    "window.mainloop()\n"
   ]
  },
  {
   "cell_type": "code",
   "execution_count": null,
   "id": "98ef5188",
   "metadata": {},
   "outputs": [],
   "source": []
  }
 ],
 "metadata": {
  "kernelspec": {
   "display_name": "Python 3 (ipykernel)",
   "language": "python",
   "name": "python3"
  }
 },
 "nbformat": 4,
 "nbformat_minor": 5
}
